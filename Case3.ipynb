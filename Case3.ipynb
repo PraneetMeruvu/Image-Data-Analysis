{
 "cells": [
  {
   "cell_type": "markdown",
   "metadata": {},
   "source": []
  },
  {
   "cell_type": "markdown",
   "metadata": {
    "id": "V_yLA4XoXbCG"
   },
   "source": [
    "# Case Study 3 : Data Mining in Image Data"
   ]
  },
  {
   "cell_type": "markdown",
   "metadata": {
    "id": "8rl9r-MkXbCJ"
   },
   "source": [
    "**Dataset required in this case study:** \n",
    "* MNIST dataset\n",
    "\n",
    "\n",
    "** NOTE **\n",
    "* You can directly load the dataset from keras using: `from keras.datasets import mnist`\n",
    "* You may need install tensorflow and keras first: https://keras.io/ \n"
   ]
  },
  {
   "cell_type": "markdown",
   "metadata": {
    "id": "O62FDxvHXbCK"
   },
   "source": [
    "# Problem: pick a data science problem that you plan to solve using the Data\n",
    "* The problem should be important and interesting, which has a potential impact in some area.\n",
    "* The problem should be solvable using the data and data science solutions.\n",
    "\n",
    "Please briefly describe in the following cell: what problem are you trying to solve? why this problem is important and interesting?"
   ]
  },
  {
   "cell_type": "markdown",
   "metadata": {},
   "source": [
    "### Problem: \n",
    "For this data science challenge, I'm using neural net design to recognize the correct label, or number, in MNIST handwritten \n",
    "digit images. This serves as the foundation for our study and practice of creating, assessing, and applying convolutional deep \n",
    "learning neural networks to image categorization. It also explains how to load the model later to generate predictions using \n",
    "fresh data after saving it."
   ]
  },
  {
   "cell_type": "code",
   "execution_count": 76,
   "metadata": {
    "id": "6y4HoTrJXbCK"
   },
   "outputs": [
    {
     "name": "stdout",
     "output_type": "stream",
     "text": [
      "Requirement already satisfied: tensorflow in c:\\users\\sunyloaner\\anaconda3\\lib\\site-packages (2.16.1)\n",
      "Requirement already satisfied: tensorflow-intel==2.16.1 in c:\\users\\sunyloaner\\anaconda3\\lib\\site-packages (from tensorflow) (2.16.1)\n",
      "Requirement already satisfied: absl-py>=1.0.0 in c:\\users\\sunyloaner\\anaconda3\\lib\\site-packages (from tensorflow-intel==2.16.1->tensorflow) (2.1.0)\n",
      "Requirement already satisfied: astunparse>=1.6.0 in c:\\users\\sunyloaner\\anaconda3\\lib\\site-packages (from tensorflow-intel==2.16.1->tensorflow) (1.6.3)\n",
      "Requirement already satisfied: flatbuffers>=23.5.26 in c:\\users\\sunyloaner\\anaconda3\\lib\\site-packages (from tensorflow-intel==2.16.1->tensorflow) (24.3.7)\n",
      "Requirement already satisfied: gast!=0.5.0,!=0.5.1,!=0.5.2,>=0.2.1 in c:\\users\\sunyloaner\\anaconda3\\lib\\site-packages (from tensorflow-intel==2.16.1->tensorflow) (0.5.4)\n",
      "Requirement already satisfied: google-pasta>=0.1.1 in c:\\users\\sunyloaner\\anaconda3\\lib\\site-packages (from tensorflow-intel==2.16.1->tensorflow) (0.2.0)\n",
      "Requirement already satisfied: h5py>=3.10.0 in c:\\users\\sunyloaner\\anaconda3\\lib\\site-packages (from tensorflow-intel==2.16.1->tensorflow) (3.10.0)\n",
      "Requirement already satisfied: libclang>=13.0.0 in c:\\users\\sunyloaner\\anaconda3\\lib\\site-packages (from tensorflow-intel==2.16.1->tensorflow) (16.0.6)\n",
      "Requirement already satisfied: ml-dtypes~=0.3.1 in c:\\users\\sunyloaner\\anaconda3\\lib\\site-packages (from tensorflow-intel==2.16.1->tensorflow) (0.3.2)\n",
      "Requirement already satisfied: opt-einsum>=2.3.2 in c:\\users\\sunyloaner\\anaconda3\\lib\\site-packages (from tensorflow-intel==2.16.1->tensorflow) (3.3.0)\n",
      "Requirement already satisfied: packaging in c:\\users\\sunyloaner\\anaconda3\\lib\\site-packages (from tensorflow-intel==2.16.1->tensorflow) (23.0)\n",
      "Requirement already satisfied: protobuf!=4.21.0,!=4.21.1,!=4.21.2,!=4.21.3,!=4.21.4,!=4.21.5,<5.0.0dev,>=3.20.3 in c:\\users\\sunyloaner\\anaconda3\\lib\\site-packages (from tensorflow-intel==2.16.1->tensorflow) (4.25.3)\n",
      "Requirement already satisfied: requests<3,>=2.21.0 in c:\\users\\sunyloaner\\anaconda3\\lib\\site-packages (from tensorflow-intel==2.16.1->tensorflow) (2.31.0)\n",
      "Requirement already satisfied: setuptools in c:\\users\\sunyloaner\\anaconda3\\lib\\site-packages (from tensorflow-intel==2.16.1->tensorflow) (68.0.0)\n",
      "Requirement already satisfied: six>=1.12.0 in c:\\users\\sunyloaner\\anaconda3\\lib\\site-packages (from tensorflow-intel==2.16.1->tensorflow) (1.16.0)\n",
      "Requirement already satisfied: termcolor>=1.1.0 in c:\\users\\sunyloaner\\anaconda3\\lib\\site-packages (from tensorflow-intel==2.16.1->tensorflow) (2.4.0)\n",
      "Requirement already satisfied: typing-extensions>=3.6.6 in c:\\users\\sunyloaner\\anaconda3\\lib\\site-packages (from tensorflow-intel==2.16.1->tensorflow) (4.7.1)\n",
      "Requirement already satisfied: wrapt>=1.11.0 in c:\\users\\sunyloaner\\anaconda3\\lib\\site-packages (from tensorflow-intel==2.16.1->tensorflow) (1.14.1)\n",
      "Requirement already satisfied: grpcio<2.0,>=1.24.3 in c:\\users\\sunyloaner\\anaconda3\\lib\\site-packages (from tensorflow-intel==2.16.1->tensorflow) (1.62.1)\n",
      "Requirement already satisfied: tensorboard<2.17,>=2.16 in c:\\users\\sunyloaner\\anaconda3\\lib\\site-packages (from tensorflow-intel==2.16.1->tensorflow) (2.16.2)\n",
      "Requirement already satisfied: keras>=3.0.0 in c:\\users\\sunyloaner\\anaconda3\\lib\\site-packages (from tensorflow-intel==2.16.1->tensorflow) (3.1.1)\n",
      "Requirement already satisfied: tensorflow-io-gcs-filesystem>=0.23.1 in c:\\users\\sunyloaner\\anaconda3\\lib\\site-packages (from tensorflow-intel==2.16.1->tensorflow) (0.31.0)\n",
      "Requirement already satisfied: numpy<2.0.0,>=1.23.5 in c:\\users\\sunyloaner\\anaconda3\\lib\\site-packages (from tensorflow-intel==2.16.1->tensorflow) (1.24.3)\n",
      "Requirement already satisfied: wheel<1.0,>=0.23.0 in c:\\users\\sunyloaner\\anaconda3\\lib\\site-packages (from astunparse>=1.6.0->tensorflow-intel==2.16.1->tensorflow) (0.38.4)\n",
      "Requirement already satisfied: rich in c:\\users\\sunyloaner\\anaconda3\\lib\\site-packages (from keras>=3.0.0->tensorflow-intel==2.16.1->tensorflow) (13.7.1)\n",
      "Requirement already satisfied: namex in c:\\users\\sunyloaner\\anaconda3\\lib\\site-packages (from keras>=3.0.0->tensorflow-intel==2.16.1->tensorflow) (0.0.7)\n",
      "Requirement already satisfied: optree in c:\\users\\sunyloaner\\anaconda3\\lib\\site-packages (from keras>=3.0.0->tensorflow-intel==2.16.1->tensorflow) (0.10.0)\n",
      "Requirement already satisfied: charset-normalizer<4,>=2 in c:\\users\\sunyloaner\\anaconda3\\lib\\site-packages (from requests<3,>=2.21.0->tensorflow-intel==2.16.1->tensorflow) (2.0.4)\n",
      "Requirement already satisfied: idna<4,>=2.5 in c:\\users\\sunyloaner\\anaconda3\\lib\\site-packages (from requests<3,>=2.21.0->tensorflow-intel==2.16.1->tensorflow) (3.4)\n",
      "Requirement already satisfied: urllib3<3,>=1.21.1 in c:\\users\\sunyloaner\\anaconda3\\lib\\site-packages (from requests<3,>=2.21.0->tensorflow-intel==2.16.1->tensorflow) (1.26.16)\n",
      "Requirement already satisfied: certifi>=2017.4.17 in c:\\users\\sunyloaner\\anaconda3\\lib\\site-packages (from requests<3,>=2.21.0->tensorflow-intel==2.16.1->tensorflow) (2023.7.22)\n",
      "Requirement already satisfied: markdown>=2.6.8 in c:\\users\\sunyloaner\\anaconda3\\lib\\site-packages (from tensorboard<2.17,>=2.16->tensorflow-intel==2.16.1->tensorflow) (3.4.1)\n",
      "Requirement already satisfied: tensorboard-data-server<0.8.0,>=0.7.0 in c:\\users\\sunyloaner\\anaconda3\\lib\\site-packages (from tensorboard<2.17,>=2.16->tensorflow-intel==2.16.1->tensorflow) (0.7.2)\n",
      "Requirement already satisfied: werkzeug>=1.0.1 in c:\\users\\sunyloaner\\anaconda3\\lib\\site-packages (from tensorboard<2.17,>=2.16->tensorflow-intel==2.16.1->tensorflow) (2.2.3)\n",
      "Requirement already satisfied: MarkupSafe>=2.1.1 in c:\\users\\sunyloaner\\anaconda3\\lib\\site-packages (from werkzeug>=1.0.1->tensorboard<2.17,>=2.16->tensorflow-intel==2.16.1->tensorflow) (2.1.1)\n",
      "Requirement already satisfied: markdown-it-py>=2.2.0 in c:\\users\\sunyloaner\\anaconda3\\lib\\site-packages (from rich->keras>=3.0.0->tensorflow-intel==2.16.1->tensorflow) (2.2.0)\n",
      "Requirement already satisfied: pygments<3.0.0,>=2.13.0 in c:\\users\\sunyloaner\\anaconda3\\lib\\site-packages (from rich->keras>=3.0.0->tensorflow-intel==2.16.1->tensorflow) (2.15.1)\n",
      "Requirement already satisfied: mdurl~=0.1 in c:\\users\\sunyloaner\\anaconda3\\lib\\site-packages (from markdown-it-py>=2.2.0->rich->keras>=3.0.0->tensorflow-intel==2.16.1->tensorflow) (0.1.0)\n",
      "Requirement already satisfied: keras in c:\\users\\sunyloaner\\anaconda3\\lib\\site-packages (3.1.1)\n",
      "Requirement already satisfied: tensorflow in c:\\users\\sunyloaner\\anaconda3\\lib\\site-packages (2.16.1)\n",
      "Requirement already satisfied: absl-py in c:\\users\\sunyloaner\\anaconda3\\lib\\site-packages (from keras) (2.1.0)\n",
      "Requirement already satisfied: numpy in c:\\users\\sunyloaner\\anaconda3\\lib\\site-packages (from keras) (1.24.3)\n",
      "Requirement already satisfied: rich in c:\\users\\sunyloaner\\anaconda3\\lib\\site-packages (from keras) (13.7.1)\n",
      "Requirement already satisfied: namex in c:\\users\\sunyloaner\\anaconda3\\lib\\site-packages (from keras) (0.0.7)\n",
      "Requirement already satisfied: h5py in c:\\users\\sunyloaner\\anaconda3\\lib\\site-packages (from keras) (3.10.0)\n",
      "Requirement already satisfied: optree in c:\\users\\sunyloaner\\anaconda3\\lib\\site-packages (from keras) (0.10.0)\n",
      "Requirement already satisfied: ml-dtypes in c:\\users\\sunyloaner\\anaconda3\\lib\\site-packages (from keras) (0.3.2)\n",
      "Requirement already satisfied: tensorflow-intel==2.16.1 in c:\\users\\sunyloaner\\anaconda3\\lib\\site-packages (from tensorflow) (2.16.1)\n",
      "Requirement already satisfied: astunparse>=1.6.0 in c:\\users\\sunyloaner\\anaconda3\\lib\\site-packages (from tensorflow-intel==2.16.1->tensorflow) (1.6.3)\n",
      "Requirement already satisfied: flatbuffers>=23.5.26 in c:\\users\\sunyloaner\\anaconda3\\lib\\site-packages (from tensorflow-intel==2.16.1->tensorflow) (24.3.7)\n",
      "Requirement already satisfied: gast!=0.5.0,!=0.5.1,!=0.5.2,>=0.2.1 in c:\\users\\sunyloaner\\anaconda3\\lib\\site-packages (from tensorflow-intel==2.16.1->tensorflow) (0.5.4)\n",
      "Requirement already satisfied: google-pasta>=0.1.1 in c:\\users\\sunyloaner\\anaconda3\\lib\\site-packages (from tensorflow-intel==2.16.1->tensorflow) (0.2.0)\n",
      "Requirement already satisfied: libclang>=13.0.0 in c:\\users\\sunyloaner\\anaconda3\\lib\\site-packages (from tensorflow-intel==2.16.1->tensorflow) (16.0.6)\n",
      "Requirement already satisfied: opt-einsum>=2.3.2 in c:\\users\\sunyloaner\\anaconda3\\lib\\site-packages (from tensorflow-intel==2.16.1->tensorflow) (3.3.0)\n",
      "Requirement already satisfied: packaging in c:\\users\\sunyloaner\\anaconda3\\lib\\site-packages (from tensorflow-intel==2.16.1->tensorflow) (23.0)\n",
      "Requirement already satisfied: protobuf!=4.21.0,!=4.21.1,!=4.21.2,!=4.21.3,!=4.21.4,!=4.21.5,<5.0.0dev,>=3.20.3 in c:\\users\\sunyloaner\\anaconda3\\lib\\site-packages (from tensorflow-intel==2.16.1->tensorflow) (4.25.3)\n",
      "Requirement already satisfied: requests<3,>=2.21.0 in c:\\users\\sunyloaner\\anaconda3\\lib\\site-packages (from tensorflow-intel==2.16.1->tensorflow) (2.31.0)\n",
      "Requirement already satisfied: setuptools in c:\\users\\sunyloaner\\anaconda3\\lib\\site-packages (from tensorflow-intel==2.16.1->tensorflow) (68.0.0)\n",
      "Requirement already satisfied: six>=1.12.0 in c:\\users\\sunyloaner\\anaconda3\\lib\\site-packages (from tensorflow-intel==2.16.1->tensorflow) (1.16.0)\n",
      "Requirement already satisfied: termcolor>=1.1.0 in c:\\users\\sunyloaner\\anaconda3\\lib\\site-packages (from tensorflow-intel==2.16.1->tensorflow) (2.4.0)\n",
      "Requirement already satisfied: typing-extensions>=3.6.6 in c:\\users\\sunyloaner\\anaconda3\\lib\\site-packages (from tensorflow-intel==2.16.1->tensorflow) (4.7.1)\n",
      "Requirement already satisfied: wrapt>=1.11.0 in c:\\users\\sunyloaner\\anaconda3\\lib\\site-packages (from tensorflow-intel==2.16.1->tensorflow) (1.14.1)\n",
      "Requirement already satisfied: grpcio<2.0,>=1.24.3 in c:\\users\\sunyloaner\\anaconda3\\lib\\site-packages (from tensorflow-intel==2.16.1->tensorflow) (1.62.1)\n",
      "Requirement already satisfied: tensorboard<2.17,>=2.16 in c:\\users\\sunyloaner\\anaconda3\\lib\\site-packages (from tensorflow-intel==2.16.1->tensorflow) (2.16.2)\n",
      "Requirement already satisfied: tensorflow-io-gcs-filesystem>=0.23.1 in c:\\users\\sunyloaner\\anaconda3\\lib\\site-packages (from tensorflow-intel==2.16.1->tensorflow) (0.31.0)\n",
      "Requirement already satisfied: markdown-it-py>=2.2.0 in c:\\users\\sunyloaner\\anaconda3\\lib\\site-packages (from rich->keras) (2.2.0)\n",
      "Requirement already satisfied: pygments<3.0.0,>=2.13.0 in c:\\users\\sunyloaner\\anaconda3\\lib\\site-packages (from rich->keras) (2.15.1)\n",
      "Requirement already satisfied: wheel<1.0,>=0.23.0 in c:\\users\\sunyloaner\\anaconda3\\lib\\site-packages (from astunparse>=1.6.0->tensorflow-intel==2.16.1->tensorflow) (0.38.4)\n",
      "Requirement already satisfied: mdurl~=0.1 in c:\\users\\sunyloaner\\anaconda3\\lib\\site-packages (from markdown-it-py>=2.2.0->rich->keras) (0.1.0)\n",
      "Requirement already satisfied: charset-normalizer<4,>=2 in c:\\users\\sunyloaner\\anaconda3\\lib\\site-packages (from requests<3,>=2.21.0->tensorflow-intel==2.16.1->tensorflow) (2.0.4)\n",
      "Requirement already satisfied: idna<4,>=2.5 in c:\\users\\sunyloaner\\anaconda3\\lib\\site-packages (from requests<3,>=2.21.0->tensorflow-intel==2.16.1->tensorflow) (3.4)\n",
      "Requirement already satisfied: urllib3<3,>=1.21.1 in c:\\users\\sunyloaner\\anaconda3\\lib\\site-packages (from requests<3,>=2.21.0->tensorflow-intel==2.16.1->tensorflow) (1.26.16)\n",
      "Requirement already satisfied: certifi>=2017.4.17 in c:\\users\\sunyloaner\\anaconda3\\lib\\site-packages (from requests<3,>=2.21.0->tensorflow-intel==2.16.1->tensorflow) (2023.7.22)\n",
      "Requirement already satisfied: markdown>=2.6.8 in c:\\users\\sunyloaner\\anaconda3\\lib\\site-packages (from tensorboard<2.17,>=2.16->tensorflow-intel==2.16.1->tensorflow) (3.4.1)\n",
      "Requirement already satisfied: tensorboard-data-server<0.8.0,>=0.7.0 in c:\\users\\sunyloaner\\anaconda3\\lib\\site-packages (from tensorboard<2.17,>=2.16->tensorflow-intel==2.16.1->tensorflow) (0.7.2)\n",
      "Requirement already satisfied: werkzeug>=1.0.1 in c:\\users\\sunyloaner\\anaconda3\\lib\\site-packages (from tensorboard<2.17,>=2.16->tensorflow-intel==2.16.1->tensorflow) (2.2.3)\n",
      "Requirement already satisfied: MarkupSafe>=2.1.1 in c:\\users\\sunyloaner\\anaconda3\\lib\\site-packages (from werkzeug>=1.0.1->tensorboard<2.17,>=2.16->tensorflow-intel==2.16.1->tensorflow) (2.1.1)\n"
     ]
    }
   ],
   "source": [
    "# Install TensorFlow and upgrade Keras\n",
    "!pip install tensorflow\n",
    "!pip install --upgrade keras tensorflow\n",
    "\n",
    "# Import required libraries\n",
    "import numpy as np\n",
    "from numpy import argmax\n",
    "import tensorflow as tf\n",
    "from tensorflow.keras.datasets import mnist\n",
    "from tensorflow.keras.utils import to_categorical\n",
    "from tensorflow.keras.models import Sequential\n",
    "from tensorflow.keras.layers import Dense, Dropout, Flatten, Conv2D, MaxPooling2D\n",
    "from keras.optimizers import Adam\n",
    "from tensorflow.keras.preprocessing.image import ImageDataGenerator\n",
    "from keras.callbacks import LearningRateScheduler\n"
   ]
  },
  {
   "cell_type": "markdown",
   "metadata": {
    "id": "ZiPPEXQJXbCL"
   },
   "source": [
    "# Data Collection/Processing: "
   ]
  },
  {
   "cell_type": "code",
   "execution_count": 50,
   "metadata": {
    "id": "Cd6xW-BgXbCM",
    "outputId": "07038892-1dba-44d7-b4d3-bd9456d3f986"
   },
   "outputs": [
    {
     "name": "stdout",
     "output_type": "stream",
     "text": [
      "Shape of X_train is (60000, 28, 28)\n",
      "Shape of X_test is (10000, 28, 28)\n",
      "Shape of y_train is (60000,)\n",
      "Shape of y_test is (10000,)\n"
     ]
    }
   ],
   "source": [
    "# Load MNIST dataset\n",
    "#This line of code loads the MNIST dataset using the mnist.load_data() function from the keras.datasets module and assigns the training and testing data and labels to X_train, y_train, X_test, and y_test, respectively.\n",
    "(X_train, y_train), (X_test, y_test) = mnist.load_data()\n",
    "\n",
    "# Normalize the data\n",
    "data_generator = ImageDataGenerator(rescale=1./255)\n",
    "\n",
    "# Display the shape of training and test sets\n",
    "# These lines of code print the shape of the training and test sets\n",
    "print('Shape of X_train is {}'.format(X_train.shape))\n",
    "print('Shape of X_test is {}'.format(X_test.shape)) \n",
    "print('Shape of y_train is {}'.format(y_train.shape))\n",
    "print('Shape of y_test is {}'.format(y_test.shape))\n"
   ]
  },
  {
   "cell_type": "markdown",
   "metadata": {},
   "source": [
    "It is clear that the training dataset has 60,000 samples, whereas the test dataset contains 10,000 examples. \n",
    "Additionally, images are square, with each pixel measuring 28 by 28."
   ]
  },
  {
   "cell_type": "markdown",
   "metadata": {
    "id": "SGuz4zYpXbCN"
   },
   "source": [
    "# Data Exploration: Exploring the your data\n",
    "\n",
    "**Plot some properties/statistics/distribution of your data** "
   ]
  },
  {
   "cell_type": "code",
   "execution_count": 53,
   "metadata": {
    "id": "hYbXuEBuXbCO",
    "outputId": "8ff586b1-102e-43cc-aeac-c3273c220853"
   },
   "outputs": [
    {
     "data": {
      "image/png": "[encoded data removed]",
      "text/plain": [
       "<Figure size 640x480 with 9 Axes>"
      ]
     },
     "metadata": {},
     "output_type": "display_data"
    }
   ],
   "source": [
    "# Import the matplotlib.pyplot module for plotting\n",
    "from matplotlib import pyplot\n",
    "\n",
    "# plot the images from dataset\n",
    "for i in range(9):\n",
    "\n",
    "# Create a subplot for each image\n",
    " pyplot.subplot(330 + 1 + i)\n",
    "\n",
    "# Plot the image with the specified colormap\n",
    " pyplot.imshow(X_train[i], cmap='gray')\n",
    "\n",
    "# Display the plotted images\n",
    "pyplot.show()"
   ]
  },
  {
   "cell_type": "code",
   "execution_count": 54,
   "metadata": {},
   "outputs": [
    {
     "data": {
      "image/png": "[encoded data removed]",
      "text/plain": [
       "<Figure size 640x480 with 1 Axes>"
      ]
     },
     "metadata": {},
     "output_type": "display_data"
    },
    {
     "name": "stdout",
     "output_type": "stream",
     "text": [
      "Label 0: 5923 samples\n",
      "Label 1: 6742 samples\n",
      "Label 2: 5958 samples\n",
      "Label 3: 6131 samples\n",
      "Label 4: 5842 samples\n",
      "Label 5: 5421 samples\n",
      "Label 6: 5918 samples\n",
      "Label 7: 6265 samples\n",
      "Label 8: 5851 samples\n",
      "Label 9: 5949 samples\n"
     ]
    }
   ],
   "source": [
    "# Plot a histogram of the label distribution\n",
    "from matplotlib import pyplot as plt\n",
    "\n",
    "# Plot a histogram to visualize the distribution of labels in y_train\n",
    "plt.hist(y_train, bins=10)\n",
    "\n",
    "# Add labels for the axes to improve readability\n",
    "plt.xlabel('Label')\n",
    "plt.ylabel('Count')\n",
    "\n",
    "# Add a title to describe the plot\n",
    "plt.title('MNIST Label Distribution')\n",
    "plt.show()\n",
    "\n",
    "# Loop through all possible labels (0-9) in MNIST dataset\n",
    "for i in range(10):\n",
    "    count = len(y_train[y_train == i])\n",
    "    \n",
    "# Print the count of each label with a descriptive message\n",
    "    print(f'Label {i}: {count} samples')"
   ]
  },
  {
   "cell_type": "markdown",
   "metadata": {},
   "source": [
    "From the above, we can see that the data is balanced."
   ]
  },
  {
   "cell_type": "markdown",
   "metadata": {
    "id": "xGpXL2dYXbCO"
   },
   "source": [
    "# The Solution: implement a data science solution to the problem you are trying to solve."
   ]
  },
  {
   "cell_type": "markdown",
   "metadata": {
    "id": "eWrck4PvXbCP"
   },
   "source": [
    "Briefly describe the idea of your solution to the problem in the following cell (please use at least 3 different deep learning models to solve your problem and compare the results):"
   ]
  },
  {
   "cell_type": "code",
   "execution_count": 55,
   "metadata": {
    "id": "s-aE-lSeXbCP"
   },
   "outputs": [],
   "source": [
    "# Calculate the total number of pixels per image (28x28)\n",
    "num_pixels = X_train.shape[1] * X_train.shape[2]\n",
    "\n",
    "# Reshape the training data to flatten each 28x28 image\n",
    "X_train1 = X_train.reshape((X_train.shape[0], num_pixels)).astype('float32')\n",
    "\n",
    "#Repeat the same reshaping process for the test data\n",
    "X_test1 = X_test.reshape((X_test.shape[0], num_pixels)).astype('float32')\n",
    "\n",
    "# Normalize the pixel values in both training and test data\n",
    "X_train1 = X_train1 / 255\n",
    "X_test1 = X_test1 / 255\n",
    "\n",
    "# one hot encode outputs\n",
    "y_train = to_categorical(y_train)\n",
    "y_test = to_categorical(y_test)\n",
    "\n",
    "# Extract the number of classes (categories) from the one-hot encoded labels\n",
    "num_classes = y_test.shape[1]"
   ]
  },
  {
   "cell_type": "markdown",
   "metadata": {},
   "source": [
    "#### Baseline Model with Multi-Layer Perceptrons: \n",
    "With a very basic neural network model consisting of only one hidden layer, we achieve very good results. Additionally, we will compare this to more intricate convolutional neural network models using it as a baseline. \n",
    "With one hidden layer and an equal number of neurons as inputs, the model is a basic neural network.\n"
   ]
  },
  {
   "cell_type": "markdown",
   "metadata": {
    "id": "V1GLkgMKXbCP"
   },
   "source": [
    "Write codes to implement the solution in python:"
   ]
  },
  {
   "cell_type": "code",
   "execution_count": 61,
   "metadata": {
    "id": "QICGxtxtXbCQ",
    "outputId": "60f15cc4-72e9-42b2-b8f2-11689888a5ab"
   },
   "outputs": [
    {
     "name": "stdout",
     "output_type": "stream",
     "text": [
      "Epoch 1/10\n",
      "\u001b[1m1875/1875\u001b[0m \u001b[32m━━━━━━━━━━━━━━━━━━━━\u001b[0m\u001b[37m\u001b[0m \u001b[1m48s\u001b[0m 23ms/step - accuracy: 0.9069 - loss: 0.3176 - val_accuracy: 0.9709 - val_loss: 0.0981\n",
      "Epoch 2/10\n",
      "\u001b[1m1875/1875\u001b[0m \u001b[32m━━━━━━━━━━━━━━━━━━━━\u001b[0m\u001b[37m\u001b[0m \u001b[1m62s\u001b[0m 33ms/step - accuracy: 0.9766 - loss: 0.0773 - val_accuracy: 0.9756 - val_loss: 0.0811\n",
      "Epoch 3/10\n",
      "\u001b[1m1875/1875\u001b[0m \u001b[32m━━━━━━━━━━━━━━━━━━━━\u001b[0m\u001b[37m\u001b[0m \u001b[1m36s\u001b[0m 19ms/step - accuracy: 0.9851 - loss: 0.0453 - val_accuracy: 0.9776 - val_loss: 0.0744\n",
      "Epoch 4/10\n",
      "\u001b[1m1875/1875\u001b[0m \u001b[32m━━━━━━━━━━━━━━━━━━━━\u001b[0m\u001b[37m\u001b[0m \u001b[1m63s\u001b[0m 34ms/step - accuracy: 0.9899 - loss: 0.0328 - val_accuracy: 0.9793 - val_loss: 0.0649\n",
      "Epoch 5/10\n",
      "\u001b[1m1875/1875\u001b[0m \u001b[32m━━━━━━━━━━━━━━━━━━━━\u001b[0m\u001b[37m\u001b[0m \u001b[1m40s\u001b[0m 21ms/step - accuracy: 0.9927 - loss: 0.0223 - val_accuracy: 0.9758 - val_loss: 0.0903\n",
      "Epoch 6/10\n",
      "\u001b[1m1875/1875\u001b[0m \u001b[32m━━━━━━━━━━━━━━━━━━━━\u001b[0m\u001b[37m\u001b[0m \u001b[1m48s\u001b[0m 24ms/step - accuracy: 0.9942 - loss: 0.0172 - val_accuracy: 0.9798 - val_loss: 0.0764\n",
      "Epoch 7/10\n",
      "\u001b[1m1875/1875\u001b[0m \u001b[32m━━━━━━━━━━━━━━━━━━━━\u001b[0m\u001b[37m\u001b[0m \u001b[1m190s\u001b[0m 101ms/step - accuracy: 0.9949 - loss: 0.0142 - val_accuracy: 0.9810 - val_loss: 0.0753\n",
      "Epoch 8/10\n",
      "\u001b[1m1875/1875\u001b[0m \u001b[32m━━━━━━━━━━━━━━━━━━━━\u001b[0m\u001b[37m\u001b[0m \u001b[1m36s\u001b[0m 19ms/step - accuracy: 0.9960 - loss: 0.0118 - val_accuracy: 0.9822 - val_loss: 0.0764\n",
      "Epoch 9/10\n",
      "\u001b[1m1875/1875\u001b[0m \u001b[32m━━━━━━━━━━━━━━━━━━━━\u001b[0m\u001b[37m\u001b[0m \u001b[1m66s\u001b[0m 35ms/step - accuracy: 0.9976 - loss: 0.0075 - val_accuracy: 0.9827 - val_loss: 0.0754\n",
      "Epoch 10/10\n",
      "\u001b[1m1875/1875\u001b[0m \u001b[32m━━━━━━━━━━━━━━━━━━━━\u001b[0m\u001b[37m\u001b[0m \u001b[1m46s\u001b[0m 16ms/step - accuracy: 0.9966 - loss: 0.0103 - val_accuracy: 0.9830 - val_loss: 0.0823\n"
     ]
    }
   ],
   "source": [
    "# Define a function to create a baseline model for MNIST classification\n",
    "def baseline_model():\n",
    "def baseline_model():\n",
    " \n",
    " # create model\n",
    " model = Sequential()\n",
    " model.add(Dense(num_pixels, input_shape=(num_pixels,), kernel_initializer='normal', activation='relu'))\n",
    " model.add(Dense(num_classes, kernel_initializer='normal', activation='softmax'))\n",
    "\n",
    "# Compile the model for training\n",
    " model.compile(loss='categorical_crossentropy', optimizer='adam', metrics=['accuracy'])\n",
    "    \n",
    "# Return the compiled model object\n",
    " return model\n",
    "\n",
    "# Build the baseline model by calling the defined function\n",
    "model = baseline_model()\n",
    "\n",
    "# Train the model on the prepared training data (X_train1, y_train)\n",
    "history = model.fit(X_train1, y_train, validation_data=(X_test1, y_test), epochs=10)"
   ]
  },
  {
   "cell_type": "code",
   "execution_count": 64,
   "metadata": {},
   "outputs": [
    {
     "name": "stdout",
     "output_type": "stream",
     "text": [
      "Baseline Error: 1.70%\n",
      "Final Loss: 0.0823, Final Accuracy: 98.3000 %\n"
     ]
    }
   ],
   "source": [
    "# Final evaluation of the model's performance on the test set\n",
    "scores_1 = model.evaluate(X_test1, y_test, verbose=0)\n",
    "print(\"Baseline Error: %.2f%%\" % (100-scores_1[1]*100))\n",
    "\n",
    "# Evaluate the model again on the test data, retrieving loss and accuracy values\n",
    "final_loss, final_acc = model.evaluate(X_test1, y_test, verbose=0)\n",
    "\n",
    "# Print the final loss\n",
    "print(\"Final Loss: {0:.4f}, Final Accuracy: {1:.4f} %\".format(final_loss, final_acc*100))"
   ]
  },
  {
   "cell_type": "code",
   "execution_count": 92,
   "metadata": {},
   "outputs": [
    {
     "data": {
      "text/plain": [
       "Text(0.5, 1.0, 'Training History')"
      ]
     },
     "execution_count": 92,
     "metadata": {},
     "output_type": "execute_result"
    },
    {
     "data": {
      "image/png": "[encoded data removed]",
      "text/plain": [
       "<Figure size 640x480 with 1 Axes>"
      ]
     },
     "metadata": {},
     "output_type": "display_data"
    }
   ],
   "source": [
    "import pandas as pd\n",
    "\n",
    "# Plot the training history\n",
    "pd.DataFrame(history.history).plot()\n",
    "\n",
    "# Set labels for x-axis and y-axis\n",
    "plt.xlabel('Epoch')\n",
    "plt.ylabel('Value')\n",
    "\n",
    "# Set title for the plot\n",
    "plt.title('Training History')\n"
   ]
  },
  {
   "cell_type": "code",
   "execution_count": 66,
   "metadata": {},
   "outputs": [],
   "source": [
    "# Load MNIST dataset\n",
    "(X_train, y_train), (X_test, y_test) = mnist.load_data()\n",
    "\n",
    "# Reshape the input data to match the format expected by convolutional neural networks (CNNs), which require a 4D input shape.\n",
    "X_train2 = X_train.reshape((X_train.shape[0], 28, 28, 1)).astype('float32')\n",
    "X_test2 = X_test.reshape((X_test.shape[0], 28, 28, 1)).astype('float32')\n",
    "\n",
    "# normalize inputs from 0-255 to 0-1\n",
    "X_train2 = X_train / 255\n",
    "X_test2 = X_test / 255\n",
    "\n",
    "# one hot encode outputs\n",
    "y_train = to_categorical(y_train)\n",
    "y_test = to_categorical(y_test)\n",
    "\n",
    "# Get the number of classes (number of unique labels) from the shape of y_test.\n",
    "num_classes = y_test.shape[1]"
   ]
  },
  {
   "cell_type": "markdown",
   "metadata": {},
   "source": [
    "##### Simple Convolutional Neural Network:\n",
    "In order to show how to leverage every feature of a contemporary CNN implementation—including convolutional layers, pooling layers, and dropout layers—we will build a basic CNN for MNIST.\n",
    "Since convolutional neural networks are more intricate than conventional multi-layer perceptrons, you will begin with a basic structure that makes use of every component to achieve cutting-edge outcomes. This is an overview of the network architecture.\n"
   ]
  },
  {
   "cell_type": "code",
   "execution_count": 67,
   "metadata": {},
   "outputs": [
    {
     "name": "stderr",
     "output_type": "stream",
     "text": [
      "C:\\Users\\SUNYLoaner\\anaconda3\\Lib\\site-packages\\keras\\src\\layers\\convolutional\\base_conv.py:99: UserWarning: Do not pass an `input_shape`/`input_dim` argument to a layer. When using Sequential models, prefer using an `Input(shape)` object as the first layer in the model instead.\n",
      "  super().__init__(\n"
     ]
    },
    {
     "name": "stdout",
     "output_type": "stream",
     "text": [
      "Epoch 1/10\n",
      "\u001b[1m300/300\u001b[0m \u001b[32m━━━━━━━━━━━━━━━━━━━━\u001b[0m\u001b[37m\u001b[0m \u001b[1m25s\u001b[0m 78ms/step - accuracy: 0.8656 - loss: 0.4812 - val_accuracy: 0.9785 - val_loss: 0.0744\n",
      "Epoch 2/10\n",
      "\u001b[1m300/300\u001b[0m \u001b[32m━━━━━━━━━━━━━━━━━━━━\u001b[0m\u001b[37m\u001b[0m \u001b[1m41s\u001b[0m 78ms/step - accuracy: 0.9783 - loss: 0.0760 - val_accuracy: 0.9831 - val_loss: 0.0539\n",
      "Epoch 3/10\n",
      "\u001b[1m300/300\u001b[0m \u001b[32m━━━━━━━━━━━━━━━━━━━━\u001b[0m\u001b[37m\u001b[0m \u001b[1m41s\u001b[0m 76ms/step - accuracy: 0.9840 - loss: 0.0546 - val_accuracy: 0.9851 - val_loss: 0.0449\n",
      "Epoch 4/10\n",
      "\u001b[1m300/300\u001b[0m \u001b[32m━━━━━━━━━━━━━━━━━━━━\u001b[0m\u001b[37m\u001b[0m \u001b[1m21s\u001b[0m 70ms/step - accuracy: 0.9873 - loss: 0.0416 - val_accuracy: 0.9882 - val_loss: 0.0380\n",
      "Epoch 5/10\n",
      "\u001b[1m300/300\u001b[0m \u001b[32m━━━━━━━━━━━━━━━━━━━━\u001b[0m\u001b[37m\u001b[0m \u001b[1m43s\u001b[0m 74ms/step - accuracy: 0.9898 - loss: 0.0331 - val_accuracy: 0.9874 - val_loss: 0.0361\n",
      "Epoch 6/10\n",
      "\u001b[1m300/300\u001b[0m \u001b[32m━━━━━━━━━━━━━━━━━━━━\u001b[0m\u001b[37m\u001b[0m \u001b[1m52s\u001b[0m 110ms/step - accuracy: 0.9926 - loss: 0.0243 - val_accuracy: 0.9869 - val_loss: 0.0380\n",
      "Epoch 7/10\n",
      "\u001b[1m300/300\u001b[0m \u001b[32m━━━━━━━━━━━━━━━━━━━━\u001b[0m\u001b[37m\u001b[0m \u001b[1m15s\u001b[0m 49ms/step - accuracy: 0.9924 - loss: 0.0232 - val_accuracy: 0.9875 - val_loss: 0.0368\n",
      "Epoch 8/10\n",
      "\u001b[1m300/300\u001b[0m \u001b[32m━━━━━━━━━━━━━━━━━━━━\u001b[0m\u001b[37m\u001b[0m \u001b[1m30s\u001b[0m 80ms/step - accuracy: 0.9942 - loss: 0.0192 - val_accuracy: 0.9887 - val_loss: 0.0346\n",
      "Epoch 9/10\n",
      "\u001b[1m300/300\u001b[0m \u001b[32m━━━━━━━━━━━━━━━━━━━━\u001b[0m\u001b[37m\u001b[0m \u001b[1m23s\u001b[0m 78ms/step - accuracy: 0.9956 - loss: 0.0148 - val_accuracy: 0.9887 - val_loss: 0.0340\n",
      "Epoch 10/10\n",
      "\u001b[1m300/300\u001b[0m \u001b[32m━━━━━━━━━━━━━━━━━━━━\u001b[0m\u001b[37m\u001b[0m \u001b[1m26s\u001b[0m 86ms/step - accuracy: 0.9949 - loss: 0.0148 - val_accuracy: 0.9890 - val_loss: 0.0327\n"
     ]
    }
   ],
   "source": [
    "# define a simple CNN model\n",
    "# This function defines a simple convolutional neural network (CNN) model using the Sequential API.\n",
    "def simple_cnn():\n",
    " # create model\n",
    " model2 = Sequential()\n",
    " model2.add(Conv2D(32, (5, 5), input_shape=(28, 28, 1), activation='relu'))\n",
    " model2.add(MaxPooling2D())\n",
    " model2.add(Dropout(0.2))\n",
    " model2.add(Flatten())\n",
    " model2.add(Dense(128, activation='relu'))\n",
    " model2.add(Dense(num_classes, activation='softmax'))\n",
    "\n",
    "# Compile model\n",
    " model2.compile(loss='categorical_crossentropy', optimizer='adam', metrics=['accuracy'])\n",
    " return model2\n",
    "\n",
    "# build the model\n",
    "# Create an instance of the simple CNN model\n",
    "model2 = simple_cnn()\n",
    "\n",
    "# Fit the model\n",
    "# Train the model on the training data (X_train2, y_train) and validate on the test data (X_test2, y_test)\n",
    "history2 = model2.fit(X_train2, y_train, validation_data=(X_test2, y_test), epochs=10, batch_size=200)\n"
   ]
  },
  {
   "cell_type": "code",
   "execution_count": 68,
   "metadata": {
    "scrolled": true
   },
   "outputs": [
    {
     "name": "stdout",
     "output_type": "stream",
     "text": [
      "CNN Error: 1.10%\n",
      "Final Loss: 0.0326, Final Accuracy: 98.9000 %\n"
     ]
    },
    {
     "data": {
      "text/plain": [
       "Text(0.5, 1.0, 'Training History')"
      ]
     },
     "execution_count": 68,
     "metadata": {},
     "output_type": "execute_result"
    },
    {
     "data": {
      "image/png": "[encoded data removed]",
      "text/plain": [
       "<Figure size 640x480 with 1 Axes>"
      ]
     },
     "metadata": {},
     "output_type": "display_data"
    }
   ],
   "source": [
    "# Final evaluation of the model\n",
    "scores_2 = model2.evaluate(X_test2, y_test, verbose=0)\n",
    "# The error rate is calculated as 100% minus the test accuracy.\n",
    "print(\"CNN Error: %.2f%%\" % (100-scores_2[1]*100))\n",
    "\n",
    "# Get the final loss and accuracy of the model\n",
    "final_loss_2, final_acc_2 = model2.evaluate(X_test2, y_test, verbose=0)\n",
    "\n",
    "# Print the final loss and accuracy of the model\n",
    "print(\"Final Loss: {0:.4f}, Final Accuracy: {1:.4f} %\".format(final_loss_2, final_acc_2*100))\n",
    "\n",
    "# Plot the training history\n",
    "# Create a plot showing the training history (loss and accuracy) over epochs.\n",
    "pd.DataFrame(history2.history).plot()\n",
    "plt.xlabel('Epoch')\n",
    "plt.ylabel('Value')\n",
    "plt.title('Training History')"
   ]
  },
  {
   "cell_type": "markdown",
   "metadata": {},
   "source": [
    "##### Larger Convolutional Neural Network:\n",
    "We are now defining a big CNN architecture that includes fully linked, max pooling, and additional convolutional layers."
   ]
  },
  {
   "cell_type": "code",
   "execution_count": 77,
   "metadata": {},
   "outputs": [
    {
     "name": "stderr",
     "output_type": "stream",
     "text": [
      "C:\\Users\\SUNYLoaner\\anaconda3\\Lib\\site-packages\\keras\\src\\layers\\convolutional\\base_conv.py:99: UserWarning: Do not pass an `input_shape`/`input_dim` argument to a layer. When using Sequential models, prefer using an `Input(shape)` object as the first layer in the model instead.\n",
      "  super().__init__(\n"
     ]
    },
    {
     "name": "stdout",
     "output_type": "stream",
     "text": [
      "Epoch 1/10\n",
      "\u001b[1m300/300\u001b[0m \u001b[32m━━━━━━━━━━━━━━━━━━━━\u001b[0m\u001b[37m\u001b[0m \u001b[1m27s\u001b[0m 77ms/step - accuracy: 0.7471 - loss: 0.7996 - val_accuracy: 0.9776 - val_loss: 0.0735\n",
      "Epoch 2/10\n",
      "\u001b[1m300/300\u001b[0m \u001b[32m━━━━━━━━━━━━━━━━━━━━\u001b[0m\u001b[37m\u001b[0m \u001b[1m22s\u001b[0m 72ms/step - accuracy: 0.9701 - loss: 0.0970 - val_accuracy: 0.9824 - val_loss: 0.0515\n",
      "Epoch 3/10\n",
      "\u001b[1m300/300\u001b[0m \u001b[32m━━━━━━━━━━━━━━━━━━━━\u001b[0m\u001b[37m\u001b[0m \u001b[1m20s\u001b[0m 68ms/step - accuracy: 0.9761 - loss: 0.0768 - val_accuracy: 0.9874 - val_loss: 0.0378\n",
      "Epoch 4/10\n",
      "\u001b[1m300/300\u001b[0m \u001b[32m━━━━━━━━━━━━━━━━━━━━\u001b[0m\u001b[37m\u001b[0m \u001b[1m19s\u001b[0m 64ms/step - accuracy: 0.9819 - loss: 0.0595 - val_accuracy: 0.9888 - val_loss: 0.0337\n",
      "Epoch 5/10\n",
      "\u001b[1m300/300\u001b[0m \u001b[32m━━━━━━━━━━━━━━━━━━━━\u001b[0m\u001b[37m\u001b[0m \u001b[1m19s\u001b[0m 65ms/step - accuracy: 0.9849 - loss: 0.0478 - val_accuracy: 0.9909 - val_loss: 0.0277\n",
      "Epoch 6/10\n",
      "\u001b[1m300/300\u001b[0m \u001b[32m━━━━━━━━━━━━━━━━━━━━\u001b[0m\u001b[37m\u001b[0m \u001b[1m19s\u001b[0m 62ms/step - accuracy: 0.9862 - loss: 0.0428 - val_accuracy: 0.9904 - val_loss: 0.0272\n",
      "Epoch 7/10\n",
      "\u001b[1m300/300\u001b[0m \u001b[32m━━━━━━━━━━━━━━━━━━━━\u001b[0m\u001b[37m\u001b[0m \u001b[1m17s\u001b[0m 55ms/step - accuracy: 0.9885 - loss: 0.0356 - val_accuracy: 0.9892 - val_loss: 0.0313\n",
      "Epoch 8/10\n",
      "\u001b[1m300/300\u001b[0m \u001b[32m━━━━━━━━━━━━━━━━━━━━\u001b[0m\u001b[37m\u001b[0m \u001b[1m22s\u001b[0m 58ms/step - accuracy: 0.9888 - loss: 0.0360 - val_accuracy: 0.9925 - val_loss: 0.0252\n",
      "Epoch 9/10\n",
      "\u001b[1m300/300\u001b[0m \u001b[32m━━━━━━━━━━━━━━━━━━━━\u001b[0m\u001b[37m\u001b[0m \u001b[1m23s\u001b[0m 76ms/step - accuracy: 0.9901 - loss: 0.0297 - val_accuracy: 0.9922 - val_loss: 0.0249\n",
      "Epoch 10/10\n",
      "\u001b[1m300/300\u001b[0m \u001b[32m━━━━━━━━━━━━━━━━━━━━\u001b[0m\u001b[37m\u001b[0m \u001b[1m18s\u001b[0m 58ms/step - accuracy: 0.9910 - loss: 0.0290 - val_accuracy: 0.9918 - val_loss: 0.0241\n"
     ]
    },
    {
     "name": "stderr",
     "output_type": "stream",
     "text": [
      "WARNING:absl:You are saving your model as an HDF5 file via `model.save()` or `keras.saving.save_model(model)`. This file format is considered legacy. We recommend using instead the native Keras format, e.g. `model.save('my_model.keras')` or `keras.saving.save_model(model, 'my_model.keras')`. \n"
     ]
    }
   ],
   "source": [
    "# define the larger CNN model\n",
    "# This function defines a larger convolutional neural network (CNN) model using the Sequential API.\n",
    "def larger_cnn_model():\n",
    "\n",
    " # create model\n",
    " model3 = Sequential()\n",
    " model3.add(Conv2D(30, (5, 5), input_shape=(28, 28, 1), activation='relu'))\n",
    " model3.add(MaxPooling2D())\n",
    " model3.add(Conv2D(15, (3, 3), activation='relu'))\n",
    " model3.add(MaxPooling2D())\n",
    " model3.add(Dropout(0.2))\n",
    " model3.add(Flatten())\n",
    " model3.add(Dense(128, activation='relu'))\n",
    " model3.add(Dense(50, activation='relu'))\n",
    " model3.add(Dense(num_classes, activation='softmax'))\n",
    "\n",
    " # Compile model\n",
    " model3.compile(loss='categorical_crossentropy', optimizer='adam', metrics=['accuracy'])\n",
    " return model3\n",
    "\n",
    "# build the model\n",
    "# Create an instance of the larger CNN model\n",
    "model3 = larger_cnn_model()\n",
    "\n",
    "# Fit the model\n",
    "# Train the model on the training data (X_train2, y_train) and validate on the test data (X_test2, y_test)\n",
    "history3 = model3.fit(X_train2, y_train, validation_data=(X_test2, y_test), epochs=10, batch_size=200)\n",
    "\n",
    "# Save the trained model to a file named 'final_model.h5'\n",
    "model3.save('final_model.h5')"
   ]
  },
  {
   "cell_type": "code",
   "execution_count": 70,
   "metadata": {},
   "outputs": [
    {
     "name": "stdout",
     "output_type": "stream",
     "text": [
      "Large CNN Error: 0.82%\n",
      "Final Loss: 0.0242, Final Accuracy: 99.1800 %\n"
     ]
    },
    {
     "data": {
      "text/plain": [
       "Text(0.5, 1.0, 'Training History')"
      ]
     },
     "execution_count": 70,
     "metadata": {},
     "output_type": "execute_result"
    },
    {
     "data": {
      "image/png": "[encoded data removed]",
      "text/plain": [
       "<Figure size 640x480 with 1 Axes>"
      ]
     },
     "metadata": {},
     "output_type": "display_data"
    }
   ],
   "source": [
    "# Final evaluation of the model\n",
    "# Evaluate the trained larger CNN model on the test data (X_test2, y_test) to compute the test loss and accuracy.\n",
    "scores_3 = model3.evaluate(X_test2, y_test, verbose=0)\n",
    "\n",
    "# Print the large CNN error rate\n",
    "# The error rate is calculated as 100% minus the test accuracy.\n",
    "print(\"Large CNN Error: %.2f%%\" % (100-scores_3[1]*100))\n",
    "\n",
    "# Get the final loss and accuracy of the model\n",
    "final_loss_3, final_acc_3 = model3.evaluate(X_test2, y_test, verbose=0)\n",
    "print(\"Final Loss: {0:.4f}, Final Accuracy: {1:.4f} %\".format(final_loss_3, final_acc_3*100))\n",
    "\n",
    "# Plot the training history\n",
    "# Create a plot showing the training history (loss and accuracy) over epochs.\n",
    "pd.DataFrame(history3.history).plot()\n",
    "plt.xlabel('Epoch')\n",
    "plt.ylabel('Value')\n",
    "plt.title('Training History')"
   ]
  },
  {
   "cell_type": "markdown",
   "metadata": {
    "id": "AJp5QGqqXbCT"
   },
   "source": [
    "# Results: summarize and visualize the results discovered from the analysis\n",
    "\n",
    "Please use figures or tables to present the results.\n"
   ]
  },
  {
   "cell_type": "code",
   "execution_count": 71,
   "metadata": {
    "id": "dwpsODZzXbCT"
   },
   "outputs": [
    {
     "name": "stdout",
     "output_type": "stream",
     "text": [
      "+---------------------------------------------+----------+------------+------------+\n",
      "|                    Model                    | Accuracy | Final Loss | Error rate |\n",
      "+---------------------------------------------+----------+------------+------------+\n",
      "| Baseline Model with Multi-Layer Perceptrons |  98.30%  |   0.0823   |   1.70%    |\n",
      "|     Simple Convolutional Neural Network     |  98.90%  |   0.0326   |   1.10%    |\n",
      "|     Larger Convolutional Neural Network     |  99.18%  |   0.0242   |   0.82%    |\n",
      "+---------------------------------------------+----------+------------+------------+\n"
     ]
    }
   ],
   "source": [
    "from prettytable import PrettyTable\n",
    "\n",
    "# Create a PrettyTable object\n",
    "x = PrettyTable()\n",
    "\n",
    "# Add columns to the table\n",
    "x.field_names = [\"Model\", \"Accuracy\",\"Final Loss\",\"Error rate\"]\n",
    "\n",
    "#add rows to the table with the performance metrics for each model\n",
    "x.add_row([\"Baseline Model with Multi-Layer Perceptrons\",\"{:.2f}%\".format(final_acc*100),\"{:.4f}\".format(final_loss),\"{:.2f}%\".format(100-scores_1[1]*100)])\n",
    "x.add_row([\"Simple Convolutional Neural Network\",\"{:.2f}%\".format(final_acc_2*100),\"{:.4f}\".format(final_loss_2),\"{:.2f}%\".format(100-scores_2[1]*100)])\n",
    "x.add_row([\"Larger Convolutional Neural Network\",\"{:.2f}%\".format(final_acc_3*100),\"{:.4f}\".format(final_loss_3),\"{:.2f}%\".format(100-scores_3[1]*100)])\n",
    "\n",
    "#printing the table\n",
    "print(x)"
   ]
  },
  {
   "cell_type": "code",
   "execution_count": 88,
   "metadata": {},
   "outputs": [
    {
     "name": "stderr",
     "output_type": "stream",
     "text": [
      "C:\\Users\\SUNYLoaner\\AppData\\Local\\Temp\\ipykernel_17080\\3117371482.py:13: MatplotlibDeprecationWarning: Auto-removal of overlapping axes is deprecated since 3.6 and will be removed two minor releases later; explicitly call ax.remove() as needed.\n",
      "  plt.subplot(2,2,1)\n"
     ]
    },
    {
     "data": {
      "image/png": "[encoded data removed]",
      "text/plain": [
       "<Figure size 2800x1500 with 1 Axes>"
      ]
     },
     "metadata": {},
     "output_type": "display_data"
    }
   ],
   "source": [
    "# Define model names for each model\n",
    "model_1_name = \"Baseline Model\"\n",
    "model_2_name = \"Simple CNN\"\n",
    "model_3_name = \"Larger CNN\"\n",
    "\n",
    "\n",
    "# Create a list of model names and performance values\n",
    "# Model names are stored in the 'model' list and performance values are stored in the 'acc' list\n",
    "model = [model_1_name, model_2_name, model_3_name]\n",
    "acc = [scores_1,scores_2,scores_3]\n",
    "\n",
    "\n",
    "# Create subplots with specific figure size and adjust the spacing between subplots\n",
    "plt.subplots(figsize=(28,15))\n",
    "plt.subplots_adjust(wspace=0.5, hspace=0.4)\n",
    "\n",
    "# Create the first subplot (2x2 grid, position 1)\n",
    "plt.subplot(2,2,1)\n",
    "\n",
    "# Plot the accuracy of different models\n",
    "plt.plot(model,acc)\n",
    "\n",
    "# Set title for the subplot\n",
    "plt.title(\"Accuracy of different models\")\n",
    "\n",
    "# Show the figure\n",
    "plt.show()"
   ]
  },
  {
   "cell_type": "markdown",
   "metadata": {},
   "source": [
    "We are able to forecast new photos using our larger CNN stored model.\n",
    "\n",
    "The model presupposes that newly created photos are 28 by 28 pixels in size, grayscale, and have been aligned to include a single handwritten digit in the middle of each image.\n",
    "\n",
    "We saved it as \"sample_image.png,\" which contains a '7' number image, in your current working directory.\n"
   ]
  },
  {
   "cell_type": "code",
   "execution_count": 91,
   "metadata": {},
   "outputs": [
    {
     "name": "stderr",
     "output_type": "stream",
     "text": [
      "WARNING:absl:Compiled the loaded model, but the compiled metrics have yet to be built. `model.compile_metrics` will be empty until you train or evaluate the model.\n",
      "WARNING:absl:Error in loading the saved optimizer state. As a result, your model is starting with a freshly initialized optimizer.\n"
     ]
    },
    {
     "name": "stdout",
     "output_type": "stream",
     "text": [
      "\u001b[1m1/1\u001b[0m \u001b[32m━━━━━━━━━━━━━━━━━━━━\u001b[0m\u001b[37m\u001b[0m \u001b[1m0s\u001b[0m 130ms/step\n",
      "7\n"
     ]
    }
   ],
   "source": [
    "from numpy import argmax\n",
    "from keras.utils import load_img\n",
    "from keras.utils import img_to_array\n",
    "from keras.models import load_model\n",
    "\n",
    "# load and prepare the image\n",
    "# This function loads an image file, prepares it for prediction by resizing, converting to grayscale, and normalizing pixel values.\n",
    "def load_image(filename):\n",
    "    # load the image\n",
    "    img = load_img(filename, target_size=(28, 28))\n",
    "    # convert to array\n",
    "    img = img_to_array(img)\n",
    "    # convert to grayscale\n",
    "    img = img.mean(axis=2)\n",
    "    # reshape into a single sample with 1 channel\n",
    "    img = img.reshape(1, 28, 28, 1)\n",
    "    # prepare pixel data\n",
    "    img = img.astype('float32')\n",
    "    img = img / 255.0\n",
    "    return img\n",
    "\n",
    "# load an image and predict the class\n",
    "def run_example():\n",
    "    # load the image\n",
    "    img = load_image('sample_image.png')\n",
    "    # load model\n",
    "    model3 = load_model('final_model.h5')\n",
    "    # predict the class\n",
    "    predict_value = model3.predict(img)\n",
    "    digit = argmax(predict_value)\n",
    "    print(digit)\n",
    "\n",
    "# entry point, run the example\n",
    "# Call the run_example function when the script is executed to perform inference on the example image.\n",
    "run_example()\n"
   ]
  },
  {
   "cell_type": "markdown",
   "metadata": {
    "id": "LEElik5fXbCT"
   },
   "source": [
    "*-----------------\n",
    "# Done\n",
    "\n",
    "All set! \n",
    "\n",
    "** What do you need to submit?**\n",
    "\n",
    "* **Notebook File**: Save this Jupyter notebook, and submit it in BrightSpace.Please make sure all the plotted tables and figures are in the notebook."
   ]
  },
  {
   "cell_type": "code",
   "execution_count": null,
   "metadata": {
    "collapsed": true,
    "id": "96oAuWwEXbCT"
   },
   "outputs": [],
   "source": []
  }
 ],
 "metadata": {
  "colab": {
   "provenance": []
  },
  "kernelspec": {
   "display_name": "Python 3 (ipykernel)",
   "language": "python",
   "name": "python3"
  },
  "language_info": {
   "codemirror_mode": {
    "name": "ipython",
    "version": 3
   },
   "file_extension": ".py",
   "mimetype": "text/x-python",
   "name": "python",
   "nbconvert_exporter": "python",
   "pygments_lexer": "ipython3",
   "version": "3.11.4"
  }
 },
 "nbformat": 4,
 "nbformat_minor": 1
}
